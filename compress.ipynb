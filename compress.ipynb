{
 "cells": [
  {
   "cell_type": "code",
   "execution_count": 15,
   "id": "6e19238f",
   "metadata": {},
   "outputs": [],
   "source": [
    "from PIL import Image\n",
    "import os\n",
    "\n",
    "def get_size_format(b, factor=1024, suffix=\"B\"):\n",
    "    \"\"\"Scale bytes to its proper byte format\"\"\"\n",
    "    for unit in [\"\", \"K\", \"M\", \"G\", \"T\", \"P\", \"E\", \"Z\"]:\n",
    "        if b < factor:\n",
    "            return f\"{b:.2f}{unit}{suffix}\"\n",
    "        b /= factor\n",
    "    return f\"{b:.2f}Y{suffix}\"\n",
    "\n",
    "def compress_image(input_img,new_size_ratio=0.9, quality=90, width=None, height=None, to_jpg=True):\n",
    "    # Load the image\n",
    "    img_path = 'image'\n",
    "    output_path = 'output'\n",
    "    app_img_path = os.path.join(img_path,input_img)\n",
    "    img = Image.open(app_img_path)\n",
    "    print(\"[*] Image shape:\", img.size)\n",
    "    \n",
    "    # Get the original image size\n",
    "    image_size = os.path.getsize(app_img_path)\n",
    "    print(\"[*] Size before compression:\", get_size_format(image_size))\n",
    "    \n",
    "    # Resize the image\n",
    "    if new_size_ratio < 1.0:\n",
    "        img = img.resize((int(img.size[0] * new_size_ratio), int(img.size[1] * new_size_ratio)), Image.LANCZOS)\n",
    "        print(\"[+] New Image shape:\", img.size)\n",
    "    elif width and height:\n",
    "        img = img.resize((width, height), Image.LANCZOS)\n",
    "        print(\"[+] New Image shape:\", img.size)\n",
    "    \n",
    "    # Split the filename and extension\n",
    "    filename, ext = os.path.splitext(input_img)\n",
    "    new_filename = f\"{filename}_compressed.jpg\" if to_jpg else f\"{filename}_compressed{ext}\"  \n",
    "    app_output_path = os.path.join(output_path,new_filename)\n",
    "    # Save the image with the specified quality\n",
    "    img.save(app_output_path, quality=quality, optimize=True)\n",
    "    \n",
    "    # Get the new image size\n",
    "    new_image_size = os.path.getsize(app_output_path)\n",
    "    print(\"[*] Size after compression:\", get_size_format(new_image_size))\n",
    "    print(f\"[+] Image saved as {new_filename}\")\n",
    "\n",
    "\n"
   ]
  },
  {
   "cell_type": "code",
   "execution_count": 21,
   "id": "5e7c74ed",
   "metadata": {},
   "outputs": [
    {
     "name": "stdout",
     "output_type": "stream",
     "text": [
      "[*] Image shape: (960, 541)\n",
      "[*] Size before compression: 75.70KB\n",
      "[+] New Image shape: (672, 378)\n",
      "[*] Size after compression: 59.30KB\n",
      "[+] Image saved as 叢雨_compressed.jpg\n"
     ]
    }
   ],
   "source": [
    "for file_name in os.listdir('image'):\n",
    "    compress_image(file_name, new_size_ratio=0.7, quality=85)\n"
   ]
  },
  {
   "cell_type": "code",
   "execution_count": null,
   "id": "15667f67",
   "metadata": {},
   "outputs": [],
   "source": []
  }
 ],
 "metadata": {
  "kernelspec": {
   "display_name": "Python 3 (ipykernel)",
   "language": "python",
   "name": "python3"
  },
  "language_info": {
   "codemirror_mode": {
    "name": "ipython",
    "version": 3
   },
   "file_extension": ".py",
   "mimetype": "text/x-python",
   "name": "python",
   "nbconvert_exporter": "python",
   "pygments_lexer": "ipython3",
   "version": "3.11.5"
  }
 },
 "nbformat": 4,
 "nbformat_minor": 5
}
